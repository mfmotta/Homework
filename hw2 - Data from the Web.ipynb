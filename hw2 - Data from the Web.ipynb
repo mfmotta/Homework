{
 "cells": [
  {
   "cell_type": "markdown",
   "metadata": {},
   "source": [
    "# Data from the Web\n",
    "\n",
    "As explained in the README file, we should scrape data from the EPFL [portal](http://is-academia.epfl.ch/page-6228.html). \n",
    "\n",
    "As one selects items from the from the drop-down menu, the parameters which enter the web-address change accordingly. It's suggested to read the parameters of the search with [Postman Interceptor](www.getpostman.com), and that's what we'll do.\n",
    " \n",
    "We see that when accessing http://isa.epfl.ch/imoniteur_ISAP/%21gedpublicreports.htm?ww_i_reportmodel=133685247 we can see which  parameters can be selected in postman with the basic url: http://isa.epfl.ch/imoniteur_ISAP/!GEDPUBLICREPORTS.filter?ww_i_reportModel=133685247.\n",
    "\n",
    "\n",
    "Let's first access this page with BeautifulSoup with a *get request*."
   ]
  },
  {
   "cell_type": "code",
   "execution_count": 4,
   "metadata": {
    "collapsed": false
   },
   "outputs": [
    {
     "name": "stdout",
     "output_type": "stream",
     "text": [
      "on>\n",
      "        <option value=\"944263\">\n",
      "         Génie mécanique\n",
      "        </option>\n",
      "        <option value=\"943936\">\n",
      "         Génie électrique et électronique\n",
      "        </option>\n",
      "        <option value=\"2054839157\">\n",
      "         Humanités digitales\n",
      "        </option>\n",
      "        <option value=\"249847\">\n",
      "         Informatique\n",
      "        </option>\n",
      "        <option value=\"120623110\">\n",
      "         Ingénierie financière\n",
      "        </option>\n",
      "        <option value=\"946882\">\n",
      "         Management de la technologie\n",
      "        </option>\n",
      "        <option value=\"944590\">\n",
      "         Mathématiques\n",
      "        </option>\n",
      "        <option value=\"945244\">\n",
      "         Microtechnique\n",
      "        </option>\n",
      "        <option value=\"945571\">\n",
      "         Physique\n",
      "        </option>\n",
      "        <option value=\"944917\">\n",
      "         Science et génie des matériaux\n",
      "        </option>\n",
      "        <option value=\"942953\">\n",
      "         Sciences et ingénierie de l'environnement\n",
      "        </option>\n",
      "        <option value=\"945901\">\n",
      "         Sciences et technologies du vivant\n",
      "        </option>\n",
      "  \n"
     ]
    }
   ],
   "source": [
    "from bs4 import BeautifulSoup\n",
    "import numpy as np\n",
    "import pandas as pd\n",
    "import urllib.request as ur \n",
    "import requests\n",
    "import json\n",
    "\n",
    "\n",
    "#this URL does not contain the list of names yes, just the list of options\n",
    "\n",
    "base_url = ' http://isa.epfl.ch/imoniteur_ISAP/!GEDPUBLICREPORTS.filter?ww_i_reportModel=133685247 '\n",
    "\n",
    "headers = {\"User-Agent\": \"Mozilla/5.0 (Windows NT 10.0; WOW64) AppleWebKit/537.36 (KHTML, like Gecko) Chrome/53.0.2785.143 Safari/537.36\" }\n",
    "\n",
    "req = ur.Request(base_url, headers = headers)\n",
    "page = ur.urlopen(req).read()\n",
    "soup = BeautifulSoup(page,'lxml') \n",
    "\n",
    "print (soup.prettify()[2000:3000])  # Taking a look at it"
   ]
  },
  {
   "cell_type": "markdown",
   "metadata": {},
   "source": [
    "The drop-down menus have the Tag: 'select'. So, I'll search for all of them."
   ]
  },
  {
   "cell_type": "code",
   "execution_count": 5,
   "metadata": {
    "collapsed": false
   },
   "outputs": [
    {
     "data": {
      "text/plain": [
       "4"
      ]
     },
     "execution_count": 5,
     "metadata": {},
     "output_type": "execute_result"
    }
   ],
   "source": [
    "find_select = soup.find_all('select')\n",
    "\n",
    "len(find_select) "
   ]
  },
  {
   "cell_type": "markdown",
   "metadata": {},
   "source": [
    "We see there are four types of selection. We take a look at *find_menu* and see that the attribute we want is _\"name\"_.  Let's list them:"
   ]
  },
  {
   "cell_type": "code",
   "execution_count": 6,
   "metadata": {
    "collapsed": false
   },
   "outputs": [
    {
     "name": "stdout",
     "output_type": "stream",
     "text": [
      "ww_x_UNITE_ACAD\n",
      "ww_x_PERIODE_ACAD\n",
      "ww_x_PERIODE_PEDAGO\n",
      "ww_x_HIVERETE\n"
     ]
    }
   ],
   "source": [
    "for elem in find_select:\n",
    "    print (elem.attrs['name'])"
   ]
  },
  {
   "cell_type": "markdown",
   "metadata": {},
   "source": [
    "Now, the next tag we need inside the _select_ tag is _option_ with attribute _value_ and their names, just for clarity:"
   ]
  },
  {
   "cell_type": "code",
   "execution_count": 7,
   "metadata": {
    "collapsed": false
   },
   "outputs": [
    {
     "name": "stdout",
     "output_type": "stream",
     "text": [
      "ww_x_UNITE_ACAD:\n",
      "\n",
      "null - \n",
      "942293 - Architecture\n",
      "246696 - Chimie et génie chimique\n",
      "943282 - Cours de mathématiques spéciales\n",
      "637841336 - EME (EPFL Middle East)\n",
      "942623 - Génie civil\n",
      "944263 - Génie mécanique\n",
      "943936 - Génie électrique et électronique \n",
      "2054839157 - Humanités digitales\n",
      "249847 - Informatique\n",
      "120623110 - Ingénierie financière\n",
      "946882 - Management de la technologie\n",
      "944590 - Mathématiques\n",
      "945244 - Microtechnique\n",
      "945571 - Physique\n",
      "944917 - Science et génie des matériaux\n",
      "942953 - Sciences et ingénierie de l'environnement\n",
      "945901 - Sciences et technologies du vivant\n",
      "1574548993 - Section FCUE\n",
      "946228 - Systèmes de communication\n",
      "\n",
      "\n",
      "ww_x_PERIODE_ACAD:\n",
      "\n",
      "null - \n",
      "355925344 - 2016-2017\n",
      "213638028 - 2015-2016\n",
      "213637922 - 2014-2015\n",
      "213637754 - 2013-2014\n",
      "123456101 - 2012-2013\n",
      "123455150 - 2011-2012\n",
      "39486325 - 2010-2011\n",
      "978195 - 2009-2010\n",
      "978187 - 2008-2009\n",
      "978181 - 2007-2008\n",
      "\n",
      "\n",
      "ww_x_PERIODE_PEDAGO:\n",
      "\n",
      "null - \n",
      "249108 - Bachelor semestre 1\n",
      "249114 - Bachelor semestre 2\n",
      "942155 - Bachelor semestre 3\n",
      "942163 - Bachelor semestre 4\n",
      "942120 - Bachelor semestre 5\n",
      "2226768 - Bachelor semestre 5b\n",
      "942175 - Bachelor semestre 6\n",
      "2226785 - Bachelor semestre 6b\n",
      "2230106 - Master semestre 1\n",
      "942192 - Master semestre 2\n",
      "2230128 - Master semestre 3\n",
      "2230140 - Master semestre 4\n",
      "2335667 - Mineur semestre 1\n",
      "2335676 - Mineur semestre 2\n",
      "2063602308 - Mise à niveau\n",
      "249127 - Projet Master automne\n",
      "3781783 - Projet Master printemps\n",
      "953159 - Semestre automne\n",
      "2754553 - Semestre printemps\n",
      "953137 - Stage automne 3ème année\n",
      "2226616 - Stage automne 4ème année\n",
      "983606 - Stage printemps 3ème année\n",
      "2226626 - Stage printemps 4ème année\n",
      "2227132 - Stage printemps master\n",
      "\n",
      "\n",
      "ww_x_HIVERETE:\n",
      "\n",
      "null - \n",
      "2936286 - Semestre d'automne\n",
      "2936295 - Semestre de printemps\n",
      "\n",
      "\n"
     ]
    }
   ],
   "source": [
    "for elem in find_select:\n",
    "    options = elem.find_all('option')\n",
    "    print (elem.attrs['name'] + \":\")\n",
    "    print('')\n",
    "    for opt in options:\n",
    "        print (\"{} - {}\".format(opt.attrs['value'], opt.text))  \n",
    "    print('')\n",
    "    print('') "
   ]
  },
  {
   "cell_type": "code",
   "execution_count": 8,
   "metadata": {
    "collapsed": false
   },
   "outputs": [
    {
     "data": {
      "text/html": [
       "<div>\n",
       "<table border=\"1\" class=\"dataframe\">\n",
       "  <thead>\n",
       "    <tr style=\"text-align: right;\">\n",
       "      <th></th>\n",
       "      <th>ww_x_UNITE_ACAD</th>\n",
       "      <th>ww_x_PERIODE_ACAD</th>\n",
       "      <th>ww_x_PERIODE_PEDAGO</th>\n",
       "      <th>ww_x_HIVERETE</th>\n",
       "    </tr>\n",
       "  </thead>\n",
       "  <tbody>\n",
       "    <tr>\n",
       "      <th>0</th>\n",
       "      <td>null</td>\n",
       "      <td>null</td>\n",
       "      <td>null</td>\n",
       "      <td>null</td>\n",
       "    </tr>\n",
       "    <tr>\n",
       "      <th>1</th>\n",
       "      <td>942293</td>\n",
       "      <td>355925344</td>\n",
       "      <td>249108</td>\n",
       "      <td>2936286</td>\n",
       "    </tr>\n",
       "    <tr>\n",
       "      <th>2</th>\n",
       "      <td>246696</td>\n",
       "      <td>213638028</td>\n",
       "      <td>249114</td>\n",
       "      <td>2936295</td>\n",
       "    </tr>\n",
       "    <tr>\n",
       "      <th>3</th>\n",
       "      <td>943282</td>\n",
       "      <td>213637922</td>\n",
       "      <td>942155</td>\n",
       "      <td>0</td>\n",
       "    </tr>\n",
       "    <tr>\n",
       "      <th>4</th>\n",
       "      <td>637841336</td>\n",
       "      <td>213637754</td>\n",
       "      <td>942163</td>\n",
       "      <td>0</td>\n",
       "    </tr>\n",
       "    <tr>\n",
       "      <th>5</th>\n",
       "      <td>942623</td>\n",
       "      <td>123456101</td>\n",
       "      <td>942120</td>\n",
       "      <td>0</td>\n",
       "    </tr>\n",
       "    <tr>\n",
       "      <th>6</th>\n",
       "      <td>944263</td>\n",
       "      <td>123455150</td>\n",
       "      <td>2226768</td>\n",
       "      <td>0</td>\n",
       "    </tr>\n",
       "    <tr>\n",
       "      <th>7</th>\n",
       "      <td>943936</td>\n",
       "      <td>39486325</td>\n",
       "      <td>942175</td>\n",
       "      <td>0</td>\n",
       "    </tr>\n",
       "  </tbody>\n",
       "</table>\n",
       "</div>"
      ],
      "text/plain": [
       "  ww_x_UNITE_ACAD ww_x_PERIODE_ACAD ww_x_PERIODE_PEDAGO ww_x_HIVERETE\n",
       "0            null              null                null          null\n",
       "1          942293         355925344              249108       2936286\n",
       "2          246696         213638028              249114       2936295\n",
       "3          943282         213637922              942155             0\n",
       "4       637841336         213637754              942163             0\n",
       "5          942623         123456101              942120             0\n",
       "6          944263         123455150             2226768             0\n",
       "7          943936          39486325              942175             0"
      ]
     },
     "execution_count": 8,
     "metadata": {},
     "output_type": "execute_result"
    }
   ],
   "source": [
    "# I'll write the output into a data frame:\n",
    "param_df = []\n",
    "\n",
    "for elem in find_select:\n",
    "    options = elem.find_all('option')\n",
    "    column = elem.attrs['name']\n",
    "    row = []\n",
    "    for opt in options:\n",
    "        row.append(opt.attrs['value'])\n",
    "    df = pd.DataFrame(row, columns=[column])\n",
    "    param_df.append(df)\n",
    "param_df = pd.concat(param_df, axis=1)    \n",
    "    \n",
    "param_df.fillna(0, inplace=True)  # repace NaN with zeros will make things easier\n",
    "param_df.head(8)"
   ]
  },
  {
   "cell_type": "markdown",
   "metadata": {
    "collapsed": false
   },
   "source": [
    "We want to start with informatic students from the first semester of 2007. This corresponds to the selection:\n",
    "    - ww_x_UNITE_ACAD: 249847 (Informatique)\n",
    "    - ww_x_PERIODE_ACAD: 978181 (2007-2008)\n",
    "    - ww_x_PERIODE_PEDAGO: 249108 (Bachelor semestre 1)\n",
    "    - ww_x_HIVERETE: 2936286 (Semestre d'automne)\n",
    "    \n",
    "I see that after making this selection and asking for an output in html and xls, intercept shows me the following urls, respectively:\n",
    "\n",
    "http://isa.epfl.ch/imoniteur_ISAP/!GEDPUBLICREPORTS.html?ww_x_PERIODE_PEDAGO=249108&ww_x_UNITE_ACAD=249847&ww_i_reportModel=133685247&ww_x_GPS=71297531&ww_x_PERIODE_ACAD=978181&ww_i_reportModelXsl=133685270&ww_x_HIVERETE=2936286\n",
    "\n",
    "\n",
    "http://isa.epfl.ch/imoniteur_ISAP/!GEDPUBLICREPORTS.XLS?ww_x_PERIODE_PEDAGO=249108&ww_x_UNITE_ACAD=249847&ww_i_reportModel=133685247&ww_x_GPS=71297531&ww_x_PERIODE_ACAD=978181&ww_i_reportModelXsl=133685271&ww_x_HIVERETE=2936286\n",
    "    \n",
    "We see there's another parameter which changes accordingly with the selection: 'ww_x_GPS'. I could not find which values it takes. Someone suggested that setting it to -1 solves the issue. Couldn't figure out why though.\n",
    "    \n",
    "So below we write a little dictionary with the parameters to make the request for this selection. The result is a table and we  write it as a pandas data frame."
   ]
  },
  {
   "cell_type": "code",
   "execution_count": 37,
   "metadata": {
    "collapsed": false
   },
   "outputs": [
    {
     "data": {
      "text/html": [
       "<div>\n",
       "<table border=\"1\" class=\"dataframe\">\n",
       "  <thead>\n",
       "    <tr style=\"text-align: right;\">\n",
       "      <th></th>\n",
       "      <th>0</th>\n",
       "      <th>1</th>\n",
       "      <th>2</th>\n",
       "      <th>3</th>\n",
       "      <th>4</th>\n",
       "      <th>5</th>\n",
       "      <th>6</th>\n",
       "      <th>7</th>\n",
       "      <th>8</th>\n",
       "      <th>9</th>\n",
       "      <th>10</th>\n",
       "      <th>11</th>\n",
       "    </tr>\n",
       "  </thead>\n",
       "  <tbody>\n",
       "    <tr>\n",
       "      <th>0</th>\n",
       "      <td>Informatique, 2007-2008, Bachelor semestre 1  ...</td>\n",
       "      <td>NaN</td>\n",
       "      <td>NaN</td>\n",
       "      <td>NaN</td>\n",
       "      <td>NaN</td>\n",
       "      <td>NaN</td>\n",
       "      <td>NaN</td>\n",
       "      <td>NaN</td>\n",
       "      <td>NaN</td>\n",
       "      <td>NaN</td>\n",
       "      <td>NaN</td>\n",
       "      <td>NaN</td>\n",
       "    </tr>\n",
       "    <tr>\n",
       "      <th>1</th>\n",
       "      <td>Civilité</td>\n",
       "      <td>Nom Prénom</td>\n",
       "      <td>Orientation Bachelor</td>\n",
       "      <td>Orientation Master</td>\n",
       "      <td>Spécialisation</td>\n",
       "      <td>Filière opt.</td>\n",
       "      <td>Mineur</td>\n",
       "      <td>Statut</td>\n",
       "      <td>Type Echange</td>\n",
       "      <td>Ecole Echange</td>\n",
       "      <td>No Sciper</td>\n",
       "      <td>NaN</td>\n",
       "    </tr>\n",
       "    <tr>\n",
       "      <th>2</th>\n",
       "      <td>Monsieur</td>\n",
       "      <td>Arévalo Christian</td>\n",
       "      <td>NaN</td>\n",
       "      <td>NaN</td>\n",
       "      <td>NaN</td>\n",
       "      <td>NaN</td>\n",
       "      <td>NaN</td>\n",
       "      <td>Présent</td>\n",
       "      <td>NaN</td>\n",
       "      <td>NaN</td>\n",
       "      <td>169569</td>\n",
       "      <td>NaN</td>\n",
       "    </tr>\n",
       "  </tbody>\n",
       "</table>\n",
       "</div>"
      ],
      "text/plain": [
       "                                                  0                  1   \\\n",
       "0  Informatique, 2007-2008, Bachelor semestre 1  ...                NaN   \n",
       "1                                           Civilité         Nom Prénom   \n",
       "2                                           Monsieur  Arévalo Christian   \n",
       "\n",
       "                     2                   3               4             5   \\\n",
       "0                   NaN                 NaN             NaN           NaN   \n",
       "1  Orientation Bachelor  Orientation Master  Spécialisation  Filière opt.   \n",
       "2                   NaN                 NaN             NaN           NaN   \n",
       "\n",
       "       6        7             8              9          10  11  \n",
       "0     NaN      NaN           NaN            NaN        NaN NaN  \n",
       "1  Mineur   Statut  Type Echange  Ecole Echange  No Sciper NaN  \n",
       "2     NaN  Présent           NaN            NaN     169569 NaN  "
      ]
     },
     "execution_count": 37,
     "metadata": {},
     "output_type": "execute_result"
    }
   ],
   "source": [
    "base_url = \"http://isa.epfl.ch/imoniteur_ISAP/!GEDPUBLICREPORTS.html?\"\n",
    "params = {\n",
    "    'ww_x_GPS': 71297531, \n",
    "    'ww_i_reportModel': 133685247,\n",
    "    'ww_i_reportModelXsl': 133685270,\n",
    "    'ww_x_UNITE_ACAD': 249847,\n",
    "    'ww_x_PERIODE_ACAD': 978181,\n",
    "    'ww_x_PERIODE_PEDAGO': 249108,\n",
    "    'ww_x_HIVERETE': 2936286 # 'null' works too\n",
    "}\n",
    "\n",
    "soup_html = requests.get(base_url, params = params)\n",
    "\n",
    "result_soup = BeautifulSoup(soup_html.text, \"lxml\") # read the HTML table\n",
    "result_table = result_soup.find_all('table')[0]\n",
    "\n",
    "\n",
    "df = pd.read_html(result_table.decode())[0]\n",
    "df.head(3)"
   ]
  },
  {
   "cell_type": "markdown",
   "metadata": {},
   "source": [
    "We are only interested in the gender, the name and presence status, so we'll drop the other columns. The sciper number is also an unique identifier of the student, so we'll use it as the index. We'll also drop the first two useless rows."
   ]
  },
  {
   "cell_type": "code",
   "execution_count": 61,
   "metadata": {
    "collapsed": false
   },
   "outputs": [
    {
     "data": {
      "text/html": [
       "<div>\n",
       "<table border=\"1\" class=\"dataframe\">\n",
       "  <thead>\n",
       "    <tr style=\"text-align: right;\">\n",
       "      <th></th>\n",
       "      <th>gender</th>\n",
       "      <th>name</th>\n",
       "      <th>presence</th>\n",
       "    </tr>\n",
       "    <tr>\n",
       "      <th>sciper</th>\n",
       "      <th></th>\n",
       "      <th></th>\n",
       "      <th></th>\n",
       "    </tr>\n",
       "  </thead>\n",
       "  <tbody>\n",
       "    <tr>\n",
       "      <th>169569</th>\n",
       "      <td>male</td>\n",
       "      <td>Arévalo Christian</td>\n",
       "      <td>Présent</td>\n",
       "    </tr>\n",
       "    <tr>\n",
       "      <th>174905</th>\n",
       "      <td>male</td>\n",
       "      <td>Aubelle Flavien</td>\n",
       "      <td>Présent</td>\n",
       "    </tr>\n",
       "    <tr>\n",
       "      <th>173922</th>\n",
       "      <td>male</td>\n",
       "      <td>Badoud Morgan</td>\n",
       "      <td>Présent</td>\n",
       "    </tr>\n",
       "    <tr>\n",
       "      <th>179406</th>\n",
       "      <td>male</td>\n",
       "      <td>Baeriswyl Jonathan</td>\n",
       "      <td>Présent</td>\n",
       "    </tr>\n",
       "    <tr>\n",
       "      <th>179428</th>\n",
       "      <td>male</td>\n",
       "      <td>Barroco Michael</td>\n",
       "      <td>Présent</td>\n",
       "    </tr>\n",
       "  </tbody>\n",
       "</table>\n",
       "</div>"
      ],
      "text/plain": [
       "       gender                name presence\n",
       "sciper                                    \n",
       "169569   male   Arévalo Christian  Présent\n",
       "174905   male     Aubelle Flavien  Présent\n",
       "173922   male       Badoud Morgan  Présent\n",
       "179406   male  Baeriswyl Jonathan  Présent\n",
       "179428   male     Barroco Michael  Présent"
      ]
     },
     "execution_count": 61,
     "metadata": {},
     "output_type": "execute_result"
    }
   ],
   "source": [
    "df = pd.read_html(result_table.decode())[0]\n",
    "df.columns = df.loc[1]\n",
    "\n",
    "df =  df[['Civilité','Nom Prénom','Statut', 'No Sciper']] #keeping only these columns\n",
    "df.columns = ['gender','name','presence', 'sciper'] # renaming theses columns\n",
    "df.gender.replace({'Monsieur':'male', 'Madame':'female'}, inplace= True) # renaming\n",
    "df = df.drop([0,1]) # dropping useless/redundant first two rows\n",
    "\n",
    "df.index = df['sciper'] #use sciper as index and dropping this redundant column:\n",
    "df.drop(['sciper'], axis=1, inplace=True)\n",
    "df.head()"
   ]
  },
  {
   "cell_type": "markdown",
   "metadata": {},
   "source": [
    "Now we should collect the data of all the Bachelor students from 2007 to 2016. We gonna iterate over the values of the dataframe with the parameters I produced previously. I have noticed that the semester 'Autumn' or 'Spring' does not have to be specified, so I'll drop this column of the data frame and set it to 'null' in the dictionary of paramaters (as that's what appears in interceptor when nothing is specified)."
   ]
  },
  {
   "cell_type": "code",
   "execution_count": 62,
   "metadata": {
    "collapsed": false
   },
   "outputs": [],
   "source": [
    "param_df.drop(['ww_x_HIVERETE','ww_x_UNITE_ACAD'], axis=1, inplace=True)\n",
    "#drop \"ww_x_HIVERETE\" and \"ww_x_UNITE_ACAD\", as this should be fixed to 'informatique'"
   ]
  },
  {
   "cell_type": "code",
   "execution_count": 63,
   "metadata": {
    "collapsed": false
   },
   "outputs": [
    {
     "data": {
      "text/html": [
       "<div>\n",
       "<table border=\"1\" class=\"dataframe\">\n",
       "  <thead>\n",
       "    <tr style=\"text-align: right;\">\n",
       "      <th></th>\n",
       "      <th>ww_x_PERIODE_ACAD</th>\n",
       "      <th>ww_x_PERIODE_PEDAGO</th>\n",
       "    </tr>\n",
       "  </thead>\n",
       "  <tbody>\n",
       "    <tr>\n",
       "      <th>0</th>\n",
       "      <td>null</td>\n",
       "      <td>null</td>\n",
       "    </tr>\n",
       "    <tr>\n",
       "      <th>1</th>\n",
       "      <td>355925344</td>\n",
       "      <td>249108</td>\n",
       "    </tr>\n",
       "    <tr>\n",
       "      <th>2</th>\n",
       "      <td>213638028</td>\n",
       "      <td>249114</td>\n",
       "    </tr>\n",
       "    <tr>\n",
       "      <th>3</th>\n",
       "      <td>213637922</td>\n",
       "      <td>942155</td>\n",
       "    </tr>\n",
       "    <tr>\n",
       "      <th>4</th>\n",
       "      <td>213637754</td>\n",
       "      <td>942163</td>\n",
       "    </tr>\n",
       "  </tbody>\n",
       "</table>\n",
       "</div>"
      ],
      "text/plain": [
       "  ww_x_PERIODE_ACAD ww_x_PERIODE_PEDAGO\n",
       "0              null                null\n",
       "1         355925344              249108\n",
       "2         213638028              249114\n",
       "3         213637922              942155\n",
       "4         213637754              942163"
      ]
     },
     "execution_count": 63,
     "metadata": {},
     "output_type": "execute_result"
    }
   ],
   "source": [
    "param_df.head()"
   ]
  },
  {
   "cell_type": "code",
   "execution_count": 159,
   "metadata": {
    "collapsed": false
   },
   "outputs": [
    {
     "ename": "TypeError",
     "evalue": "'type' object is not subscriptable",
     "output_type": "error",
     "traceback": [
      "\u001b[0;31m---------------------------------------------------------------------------\u001b[0m",
      "\u001b[0;31mTypeError\u001b[0m                                 Traceback (most recent call last)",
      "\u001b[0;32m<ipython-input-159-8ac205ae11d3>\u001b[0m in \u001b[0;36m<module>\u001b[0;34m()\u001b[0m\n\u001b[1;32m     11\u001b[0m     \u001b[0mnew_row\u001b[0m\u001b[1;33m.\u001b[0m\u001b[0mappend\u001b[0m\u001b[1;33m(\u001b[0m\u001b[0melem\u001b[0m\u001b[1;33m)\u001b[0m\u001b[1;33m\u001b[0m\u001b[0m\n\u001b[1;32m     12\u001b[0m \u001b[1;33m\u001b[0m\u001b[0m\n\u001b[0;32m---> 13\u001b[0;31m \u001b[0mnew_table\u001b[0m \u001b[1;33m=\u001b[0m \u001b[0mpd\u001b[0m\u001b[1;33m.\u001b[0m\u001b[0mDataFrame\u001b[0m\u001b[1;33m[\u001b[0m\u001b[0mparam_df\u001b[0m\u001b[1;33m[\u001b[0m\u001b[1;33m(\u001b[0m\u001b[0mparam_df\u001b[0m\u001b[1;33m[\u001b[0m\u001b[1;34m'ww_x_PERIODE_PEDAGO'\u001b[0m\u001b[1;33m]\u001b[0m \u001b[1;33m!=\u001b[0m \u001b[1;34m'null'\u001b[0m\u001b[1;33m)\u001b[0m\u001b[1;33m]\u001b[0m\u001b[1;33m[\u001b[0m\u001b[1;34m'ww_x_PERIODE_PEDAGO'\u001b[0m\u001b[1;33m]\u001b[0m\u001b[1;33m]\u001b[0m\u001b[1;33m\u001b[0m\u001b[0m\n\u001b[0m\u001b[1;32m     14\u001b[0m \u001b[0mnew_table\u001b[0m\u001b[1;33m\u001b[0m\u001b[0m\n",
      "\u001b[0;31mTypeError\u001b[0m: 'type' object is not subscriptable"
     ]
    }
   ],
   "source": [
    "#for i in range(len(param))\n",
    "#param_df.loc[2][1]\n",
    "new_col = []\n",
    "new_row = []\n",
    "\n",
    "for elem in param_df[(param_df['ww_x_PERIODE_ACAD'] != 'null') & (param_df['ww_x_PERIODE_ACAD'] != 0)]['ww_x_PERIODE_ACAD']:\n",
    "    new_col.append(elem)\n",
    "    #new_col['elem'] = param_df[(param_df['ww_x_PERIODE_PEDAGO'] != 'null')]['ww_x_PERIODE_PEDAGO']\n",
    "\n",
    "for elem in param_df[(param_df['ww_x_PERIODE_PEDAGO'] != 'null')]['ww_x_PERIODE_PEDAGO']:\n",
    "    new_row.append(elem)\n",
    "\n",
    "new_table = pd.DataFrame[param_df[(param_df['ww_x_PERIODE_PEDAGO'] != 'null')]['ww_x_PERIODE_PEDAGO']]\n",
    "new_table"
   ]
  },
  {
   "cell_type": "code",
   "execution_count": 149,
   "metadata": {
    "collapsed": false
   },
   "outputs": [
    {
     "name": "stdout",
     "output_type": "stream",
     "text": [
      "ww_x_PERIODE_ACAD - 355925344\n",
      "ww_x_PERIODE_ACAD - 213638028\n",
      "ww_x_PERIODE_ACAD - 213637922\n",
      "ww_x_PERIODE_ACAD - 213637754\n",
      "ww_x_PERIODE_ACAD - 123456101\n",
      "ww_x_PERIODE_ACAD - 123455150\n",
      "ww_x_PERIODE_ACAD - 39486325\n",
      "ww_x_PERIODE_PEDAGO - 2063602308\n",
      "ww_x_PERIODE_PEDAGO - 3781783\n"
     ]
    }
   ],
   "source": [
    "for col in param_df:\n",
    "    param = col\n",
    "    for elem in param_df[col]:\n",
    "        if elem != 'null' and int(elem)>3000000:\n",
    "            params[param] = elem\n",
    "            print (\"{} - {}\".format(param,elem))\n",
    "            #print (params)\n"
   ]
  },
  {
   "cell_type": "code",
   "execution_count": 75,
   "metadata": {
    "collapsed": false
   },
   "outputs": [
    {
     "name": "stdout",
     "output_type": "stream",
     "text": [
      "{'ww_x_PERIODE_ACAD': '355925344', 'ww_i_reportModelXsl': 133685270, 'ww_x_HIVERETE': 'null', 'ww_x_PERIODE_PEDAGO': 0, 'ww_i_reportModel': 133685247, 'ww_x_GPS': -1, 'ww_x_UNITE_ACAD': 249847}\n",
      " \n",
      "{'ww_x_PERIODE_ACAD': '213638028', 'ww_i_reportModelXsl': 133685270, 'ww_x_HIVERETE': 'null', 'ww_x_PERIODE_PEDAGO': 0, 'ww_i_reportModel': 133685247, 'ww_x_GPS': -1, 'ww_x_UNITE_ACAD': 249847}\n",
      " \n",
      "{'ww_x_PERIODE_ACAD': '213637922', 'ww_i_reportModelXsl': 133685270, 'ww_x_HIVERETE': 'null', 'ww_x_PERIODE_PEDAGO': 0, 'ww_i_reportModel': 133685247, 'ww_x_GPS': -1, 'ww_x_UNITE_ACAD': 249847}\n",
      " \n",
      "{'ww_x_PERIODE_ACAD': '213637754', 'ww_i_reportModelXsl': 133685270, 'ww_x_HIVERETE': 'null', 'ww_x_PERIODE_PEDAGO': 0, 'ww_i_reportModel': 133685247, 'ww_x_GPS': -1, 'ww_x_UNITE_ACAD': 249847}\n",
      " \n",
      "{'ww_x_PERIODE_ACAD': '123456101', 'ww_i_reportModelXsl': 133685270, 'ww_x_HIVERETE': 'null', 'ww_x_PERIODE_PEDAGO': 0, 'ww_i_reportModel': 133685247, 'ww_x_GPS': -1, 'ww_x_UNITE_ACAD': 249847}\n",
      " \n",
      "{'ww_x_PERIODE_ACAD': '123455150', 'ww_i_reportModelXsl': 133685270, 'ww_x_HIVERETE': 'null', 'ww_x_PERIODE_PEDAGO': 0, 'ww_i_reportModel': 133685247, 'ww_x_GPS': -1, 'ww_x_UNITE_ACAD': 249847}\n",
      " \n",
      "{'ww_x_PERIODE_ACAD': '39486325', 'ww_i_reportModelXsl': 133685270, 'ww_x_HIVERETE': 'null', 'ww_x_PERIODE_PEDAGO': 0, 'ww_i_reportModel': 133685247, 'ww_x_GPS': -1, 'ww_x_UNITE_ACAD': 249847}\n",
      " \n",
      "{'ww_x_PERIODE_ACAD': '39486325', 'ww_i_reportModelXsl': 133685270, 'ww_x_HIVERETE': 'null', 'ww_x_PERIODE_PEDAGO': '2063602308', 'ww_i_reportModel': 133685247, 'ww_x_GPS': -1, 'ww_x_UNITE_ACAD': 249847}\n",
      " \n",
      "{'ww_x_PERIODE_ACAD': '39486325', 'ww_i_reportModelXsl': 133685270, 'ww_x_HIVERETE': 'null', 'ww_x_PERIODE_PEDAGO': '3781783', 'ww_i_reportModel': 133685247, 'ww_x_GPS': -1, 'ww_x_UNITE_ACAD': 249847}\n",
      " \n"
     ]
    }
   ],
   "source": [
    "base_url = \"http://isa.epfl.ch/imoniteur_ISAP/!GEDPUBLICREPORTS.html?\"\n",
    "\n",
    "\n",
    "params = {\n",
    "    'ww_x_UNITE_ACAD': 249847,\n",
    "    'ww_x_PERIODE_ACAD': 0,\n",
    "    'ww_x_PERIODE_PEDAGO': 0,\n",
    "    'ww_x_GPS': -1, \n",
    "    'ww_i_reportModel': 133685247,\n",
    "    'ww_i_reportModelXsl': 133685270,\n",
    "    'ww_x_HIVERETE': 'null' \n",
    "}\n",
    "\n",
    "tables = []\n",
    "\n",
    "for col in param_df:\n",
    "    param = col\n",
    "    for elem in param_df[col]:\n",
    "        if elem != 'null' and int(elem)>3000000:  # elem != 0:\n",
    "            params[param] = elem # assigning the values read from the parameters data frame to the dictionary\n",
    "            print(params)\n",
    "            print(' ')"
   ]
  },
  {
   "cell_type": "code",
   "execution_count": 74,
   "metadata": {
    "collapsed": false
   },
   "outputs": [
    {
     "ename": "ValueError",
     "evalue": "No tables found matching pattern '.+'",
     "output_type": "error",
     "traceback": [
      "\u001b[0;31m---------------------------------------------------------------------------\u001b[0m",
      "\u001b[0;31mValueError\u001b[0m                                Traceback (most recent call last)",
      "\u001b[0;32m<ipython-input-74-3a45b59547d6>\u001b[0m in \u001b[0;36m<module>\u001b[0;34m()\u001b[0m\n\u001b[1;32m     22\u001b[0m             \u001b[0mresult_soup\u001b[0m \u001b[1;33m=\u001b[0m \u001b[0mBeautifulSoup\u001b[0m\u001b[1;33m(\u001b[0m\u001b[0msoup_html\u001b[0m\u001b[1;33m.\u001b[0m\u001b[0mtext\u001b[0m\u001b[1;33m,\u001b[0m \u001b[1;34m\"lxml\"\u001b[0m\u001b[1;33m)\u001b[0m \u001b[1;31m# Read the HTML table\u001b[0m\u001b[1;33m\u001b[0m\u001b[0m\n\u001b[1;32m     23\u001b[0m             \u001b[0mresult_table\u001b[0m \u001b[1;33m=\u001b[0m \u001b[0mresult_soup\u001b[0m\u001b[1;33m.\u001b[0m\u001b[0mfind_all\u001b[0m\u001b[1;33m(\u001b[0m\u001b[1;34m'table'\u001b[0m\u001b[1;33m)\u001b[0m\u001b[1;33m[\u001b[0m\u001b[1;36m0\u001b[0m\u001b[1;33m]\u001b[0m\u001b[1;33m\u001b[0m\u001b[0m\n\u001b[0;32m---> 24\u001b[0;31m             \u001b[0mdf\u001b[0m \u001b[1;33m=\u001b[0m \u001b[0mpd\u001b[0m\u001b[1;33m.\u001b[0m\u001b[0mread_html\u001b[0m\u001b[1;33m(\u001b[0m\u001b[0mresult_table\u001b[0m\u001b[1;33m.\u001b[0m\u001b[0mdecode\u001b[0m\u001b[1;33m(\u001b[0m\u001b[1;33m)\u001b[0m\u001b[1;33m)\u001b[0m\u001b[1;33m[\u001b[0m\u001b[1;36m0\u001b[0m\u001b[1;33m]\u001b[0m\u001b[1;33m\u001b[0m\u001b[0m\n\u001b[0m\u001b[1;32m     25\u001b[0m             \u001b[0mtables\u001b[0m\u001b[1;33m.\u001b[0m\u001b[0mappend\u001b[0m\u001b[1;33m(\u001b[0m\u001b[0mdf\u001b[0m\u001b[1;33m)\u001b[0m \u001b[1;31m# appending the tables of each iteration: pictorically [df1, df2, df3 ...]\u001b[0m\u001b[1;33m\u001b[0m\u001b[0m\n\u001b[1;32m     26\u001b[0m     \u001b[0mtables\u001b[0m \u001b[1;33m=\u001b[0m \u001b[0mpd\u001b[0m\u001b[1;33m.\u001b[0m\u001b[0mconcat\u001b[0m\u001b[1;33m(\u001b[0m\u001b[0mtables\u001b[0m\u001b[1;33m,\u001b[0m \u001b[0maxis\u001b[0m\u001b[1;33m=\u001b[0m\u001b[1;36m1\u001b[0m\u001b[1;33m)\u001b[0m  \u001b[1;31m# organizing as a single data frame by concatanating in the vertical axis\u001b[0m\u001b[1;33m\u001b[0m\u001b[0m\n",
      "\u001b[0;32mC:\\Users\\mariele\\Anaconda3\\lib\\site-packages\\pandas\\io\\html.py\u001b[0m in \u001b[0;36mread_html\u001b[0;34m(io, match, flavor, header, index_col, skiprows, attrs, parse_dates, tupleize_cols, thousands, encoding, decimal, converters, na_values, keep_default_na)\u001b[0m\n\u001b[1;32m    894\u001b[0m                   \u001b[0mthousands\u001b[0m\u001b[1;33m=\u001b[0m\u001b[0mthousands\u001b[0m\u001b[1;33m,\u001b[0m \u001b[0mattrs\u001b[0m\u001b[1;33m=\u001b[0m\u001b[0mattrs\u001b[0m\u001b[1;33m,\u001b[0m \u001b[0mencoding\u001b[0m\u001b[1;33m=\u001b[0m\u001b[0mencoding\u001b[0m\u001b[1;33m,\u001b[0m\u001b[1;33m\u001b[0m\u001b[0m\n\u001b[1;32m    895\u001b[0m                   \u001b[0mdecimal\u001b[0m\u001b[1;33m=\u001b[0m\u001b[0mdecimal\u001b[0m\u001b[1;33m,\u001b[0m \u001b[0mconverters\u001b[0m\u001b[1;33m=\u001b[0m\u001b[0mconverters\u001b[0m\u001b[1;33m,\u001b[0m \u001b[0mna_values\u001b[0m\u001b[1;33m=\u001b[0m\u001b[0mna_values\u001b[0m\u001b[1;33m,\u001b[0m\u001b[1;33m\u001b[0m\u001b[0m\n\u001b[0;32m--> 896\u001b[0;31m                   keep_default_na=keep_default_na)\n\u001b[0m",
      "\u001b[0;32mC:\\Users\\mariele\\Anaconda3\\lib\\site-packages\\pandas\\io\\html.py\u001b[0m in \u001b[0;36m_parse\u001b[0;34m(flavor, io, match, attrs, encoding, **kwargs)\u001b[0m\n\u001b[1;32m    731\u001b[0m             \u001b[1;32mbreak\u001b[0m\u001b[1;33m\u001b[0m\u001b[0m\n\u001b[1;32m    732\u001b[0m     \u001b[1;32melse\u001b[0m\u001b[1;33m:\u001b[0m\u001b[1;33m\u001b[0m\u001b[0m\n\u001b[0;32m--> 733\u001b[0;31m         \u001b[0mraise_with_traceback\u001b[0m\u001b[1;33m(\u001b[0m\u001b[0mretained\u001b[0m\u001b[1;33m)\u001b[0m\u001b[1;33m\u001b[0m\u001b[0m\n\u001b[0m\u001b[1;32m    734\u001b[0m \u001b[1;33m\u001b[0m\u001b[0m\n\u001b[1;32m    735\u001b[0m     \u001b[0mret\u001b[0m \u001b[1;33m=\u001b[0m \u001b[1;33m[\u001b[0m\u001b[1;33m]\u001b[0m\u001b[1;33m\u001b[0m\u001b[0m\n",
      "\u001b[0;32mC:\\Users\\mariele\\Anaconda3\\lib\\site-packages\\pandas\\compat\\__init__.py\u001b[0m in \u001b[0;36mraise_with_traceback\u001b[0;34m(exc, traceback)\u001b[0m\n\u001b[1;32m    337\u001b[0m         \u001b[1;32mif\u001b[0m \u001b[0mtraceback\u001b[0m \u001b[1;33m==\u001b[0m \u001b[0mEllipsis\u001b[0m\u001b[1;33m:\u001b[0m\u001b[1;33m\u001b[0m\u001b[0m\n\u001b[1;32m    338\u001b[0m             \u001b[0m_\u001b[0m\u001b[1;33m,\u001b[0m \u001b[0m_\u001b[0m\u001b[1;33m,\u001b[0m \u001b[0mtraceback\u001b[0m \u001b[1;33m=\u001b[0m \u001b[0msys\u001b[0m\u001b[1;33m.\u001b[0m\u001b[0mexc_info\u001b[0m\u001b[1;33m(\u001b[0m\u001b[1;33m)\u001b[0m\u001b[1;33m\u001b[0m\u001b[0m\n\u001b[0;32m--> 339\u001b[0;31m         \u001b[1;32mraise\u001b[0m \u001b[0mexc\u001b[0m\u001b[1;33m.\u001b[0m\u001b[0mwith_traceback\u001b[0m\u001b[1;33m(\u001b[0m\u001b[0mtraceback\u001b[0m\u001b[1;33m)\u001b[0m\u001b[1;33m\u001b[0m\u001b[0m\n\u001b[0m\u001b[1;32m    340\u001b[0m \u001b[1;32melse\u001b[0m\u001b[1;33m:\u001b[0m\u001b[1;33m\u001b[0m\u001b[0m\n\u001b[1;32m    341\u001b[0m     \u001b[1;31m# this version of raise is a syntax error in Python 3\u001b[0m\u001b[1;33m\u001b[0m\u001b[1;33m\u001b[0m\u001b[0m\n",
      "\u001b[0;31mValueError\u001b[0m: No tables found matching pattern '.+'"
     ]
    }
   ],
   "source": [
    "base_url = \"http://isa.epfl.ch/imoniteur_ISAP/!GEDPUBLICREPORTS.html?\"\n",
    "\n",
    "\n",
    "params = {\n",
    "    'ww_x_UNITE_ACAD': 249847,\n",
    "    'ww_x_PERIODE_ACAD': 0,\n",
    "    'ww_x_PERIODE_PEDAGO': 0,\n",
    "    'ww_x_GPS': -1, \n",
    "    'ww_i_reportModel': 133685247,\n",
    "    'ww_i_reportModelXsl': 133685270,\n",
    "    'ww_x_HIVERETE': 'null' \n",
    "}\n",
    "\n",
    "tables = []\n",
    "\n",
    "for col in param_df:\n",
    "    param = col\n",
    "    for elem in param_df[col]:\n",
    "        if elem != 'null' and int(elem)>3000000:  # elem != 0:\n",
    "            params[param] = elem # assigning the values read from the parameters data frame to the dictionary\n",
    "            soup_html = requests.get(base_url, params = params)\n",
    "            result_soup = BeautifulSoup(soup_html.text, \"lxml\") # Read the HTML table\n",
    "            result_table = result_soup.find_all('table')[0]\n",
    "            df = pd.read_html(result_table.decode())[0]\n",
    "            tables.append(df) # appending the tables of each iteration: pictorically [df1, df2, df3 ...]\n",
    "    tables = pd.concat(tables, axis=1)  # organizing as a single data frame by concatanating in the vertical axis"
   ]
  },
  {
   "cell_type": "code",
   "execution_count": 602,
   "metadata": {
    "collapsed": false
   },
   "outputs": [],
   "source": [
    "import pandas as pd\n",
    "import numpy as np\n",
    "\n",
    "students_list = []\n",
    "for student in find_student:\n",
    "    if student.string != None:\n",
    "        if '1' in student.string:\n",
    "        #if student.string != 1:\n",
    "            #print (student.contents[0])  # produces the same result\n",
    "            #studentlist['number']= student.string\n",
    "            students_list.append(student.string)\n",
    "json.dumps(students_list)\n",
    "\n",
    "with open(\"list_stu.json\", \"w\") as writeJSON:\n",
    "    json.dump(students_list, writeJSON)  # it actually kind of works\n"
   ]
  },
  {
   "cell_type": "code",
   "execution_count": 648,
   "metadata": {
    "collapsed": false
   },
   "outputs": [
    {
     "data": {
      "text/html": [
       "<div>\n",
       "<table border=\"1\" class=\"dataframe\">\n",
       "  <thead>\n",
       "    <tr style=\"text-align: right;\">\n",
       "      <th></th>\n",
       "      <th>Student Number</th>\n",
       "    </tr>\n",
       "  </thead>\n",
       "  <tbody>\n",
       "    <tr>\n",
       "      <th>0</th>\n",
       "      <td>169569</td>\n",
       "    </tr>\n",
       "    <tr>\n",
       "      <th>1</th>\n",
       "      <td>174905</td>\n",
       "    </tr>\n",
       "    <tr>\n",
       "      <th>2</th>\n",
       "      <td>173922</td>\n",
       "    </tr>\n",
       "    <tr>\n",
       "      <th>3</th>\n",
       "      <td>179406</td>\n",
       "    </tr>\n",
       "    <tr>\n",
       "      <th>4</th>\n",
       "      <td>179428</td>\n",
       "    </tr>\n",
       "  </tbody>\n",
       "</table>\n",
       "</div>"
      ],
      "text/plain": [
       "   Student Number\n",
       "0          169569\n",
       "1          174905\n",
       "2          173922\n",
       "3          179406\n",
       "4          179428"
      ]
     },
     "execution_count": 648,
     "metadata": {},
     "output_type": "execute_result"
    }
   ],
   "source": [
    "students_list = []\n",
    "for student in find_student:\n",
    "    if student.string != None:\n",
    "        if '1' in student.string:\n",
    "        #if student.string != 1:\n",
    "            #print (student.contents[0])  # produces the same result\n",
    "            #studentlist['number']= student.string\n",
    "            students_list.append(student.string)\n",
    "            \n",
    "json.dumps(students_list)\n",
    "\n",
    "with open(\"list_stu.json\", \"w\") as writeJSON:\n",
    "    json.dump(students_list, writeJSON)  # it actually kind of works\n",
    "    \n",
    "#Now, I'm gonna read this list as a data frame\n",
    "\n",
    "df = pd.read_json(\"list_stu.json\")\n",
    "df.columns = ['Student Number']\n",
    "df.head()"
   ]
  },
  {
   "cell_type": "code",
   "execution_count": 676,
   "metadata": {
    "collapsed": false
   },
   "outputs": [
    {
     "name": "stdout",
     "output_type": "stream",
     "text": [
      "['169569', '174905', '173922', '179406', '179428', '179324', '174597', '179449', '178553', '179426', '178271', '182433', '180731', '171619', '179837', '179157', '179864', '174590', '178843', '178711', '178786', '179567', '176282', '178656', '181445', '178718', '175466', '173882', '181612', '181232', '178706', '180284', '181121', '170509', '175379', '180570', '178604', '175190', '178660', '181248', '179163', '181181', '181244', '175685', '169731', '175001', '181424', '181259', '178433', '181460', '181298', '181513', '175478', '176459', '175014', '181514', '179355', '181076', '175576', '181115', '180094', '180853', '178726', '181017', '175031', '179194', '175754', '179980', '179988', '174187', '180959', '171195', '178620', '180979', '180980', '178948', '169795', '178684', '180241', '180982', '181291', '175280', '179053', '180854', '171568', '174120', '180185', '175834', '174340', '178682']\n"
     ]
    }
   ],
   "source": [
    "students_list = []\n",
    "for student in find_student:\n",
    "    if student.string != None:\n",
    "        if '1' in student.string:\n",
    "        #if student.string != 1:\n",
    "            #print (student.contents[0])  # produces the same result\n",
    "            #studentlist['number']= student.string\n",
    "            students_list.append(student.string)\n",
    "            \n",
    "print(students_list)\n"
   ]
  },
  {
   "cell_type": "code",
   "execution_count": 678,
   "metadata": {
    "collapsed": false
   },
   "outputs": [],
   "source": [
    "#Here  I'm going to read the main part of the page and add the options for the parameters:\n",
    "import glob \n",
    "\n",
    "names_url = 'http://isa.epfl.ch/imoniteur_ISAP/!GEDPUBLICREPORTS.html?ww_x_GPS=71297531&ww_i_reportModel=133685247&ww_i_reportModelXsl=133685270&ww_x_UNITE_ACAD=249847&ww_x_PERIODE_ACAD='\n",
    "# ww_x_UNITE_ACAD=249847&ww_x_PERIODE_ACAD=978181&ww_x_PERIODE_PEDAGO=249108&ww_x_HIVERETE=2936286'\n",
    "\n",
    "#Now I'm going to iterate over all possible the academic periods\n",
    "for child in find_period:\n",
    "    if child['value'] != 'null': # the first entrance is null, exclude that\n",
    "        \n",
    "        req = ur.Request(names_url+str(child['value'])+str('&ww_x_PERIODE_PEDAGO=249108&ww_x_HIVERETE=2936286'), headers = headers)\n",
    "        page = ur.urlopen(req).read()\n",
    "        soup_p = BeautifulSoup(page,'lxml') \n",
    "        \n",
    "        find_student = soup_names.find_all('td')\n",
    "        students_list= []\n",
    "        for student in find_student:\n",
    "            if student.string != None:\n",
    "                 if '1' in student.string:\n",
    "                    students_list.append(student.string)\n",
    "            \n",
    "        json.dumps(students_list)\n",
    "                    \n",
    "        with open(\"list_stu.json\", \"w\") as writeJSON:\n",
    "            json.dump((students_list), writeJSON)  # it actually kind of works\n",
    "        \n",
    "        df = pd.read_json(\"list_stu.json\")\n",
    "        df.columns = [child['value']]\n",
    "        \n",
    "            \n",
    "       # appended_df = []\n",
    "        #for infile in glob.glob(\"*.json\"):\n",
    "         #   df = pd.read_json(infile)\n",
    "          #  appended_df = pd.append(df)\n",
    "           # appended_df = pd.concat(appended_df, axis=1)\n",
    "            \n",
    "#appended_df.head()\n",
    "    \n",
    "    "
   ]
  },
  {
   "cell_type": "code",
   "execution_count": 871,
   "metadata": {
    "collapsed": false
   },
   "outputs": [
    {
     "ename": "SyntaxError",
     "evalue": "invalid syntax (<ipython-input-871-e50caf57890b>, line 1)",
     "output_type": "error",
     "traceback": [
      "\u001b[1;36m  File \u001b[1;32m\"<ipython-input-871-e50caf57890b>\"\u001b[1;36m, line \u001b[1;32m1\u001b[0m\n\u001b[1;33m    re.get()?\u001b[0m\n\u001b[1;37m            ^\u001b[0m\n\u001b[1;31mSyntaxError\u001b[0m\u001b[1;31m:\u001b[0m invalid syntax\n"
     ]
    }
   ],
   "source": [
    "re.get()"
   ]
  },
  {
   "cell_type": "code",
   "execution_count": 868,
   "metadata": {
    "collapsed": false
   },
   "outputs": [
    {
     "name": "stdout",
     "output_type": "stream",
     "text": [
      "0\n",
      "0\n",
      "0\n",
      "0\n",
      "0\n",
      "0\n",
      "0\n",
      "0\n",
      "0\n",
      "0\n",
      "173922\n",
      "2007-2008\n",
      "179428\n",
      "2007-2008\n",
      "179324\n",
      "2007-2008\n",
      "179426\n",
      "2007-2008\n",
      "178271\n",
      "2007-2008\n",
      "182433\n",
      "2007-2008\n",
      "176282\n",
      "2007-2008\n",
      "173882\n",
      "2007-2008\n",
      "181612\n",
      "2007-2008\n",
      "181232\n",
      "2007-2008\n",
      "180284\n",
      "2007-2008\n",
      "181121\n",
      "2007-2008\n",
      "181248\n",
      "2007-2008\n",
      "181244\n",
      "2007-2008\n",
      "181424\n",
      "2007-2008\n",
      "181259\n",
      "2007-2008\n",
      "181298\n",
      "2007-2008\n",
      "178726\n",
      "2007-2008\n",
      "178620\n",
      "2007-2008\n",
      "180241\n",
      "2007-2008\n",
      "180982\n",
      "2007-2008\n",
      "181291\n",
      "2007-2008\n",
      "175280\n",
      "2007-2008\n",
      "174120\n",
      "2007-2008\n",
      "178682\n",
      "2007-2008\n"
     ]
    }
   ],
   "source": [
    "\n",
    "names_url = 'http://isa.epfl.ch/imoniteur_ISAP/!GEDPUBLICREPORTS.html?ww_x_GPS=71297531&ww_i_reportModel=133685247&ww_i_reportModelXsl=133685270&ww_x_UNITE_ACAD=249847&ww_x_PERIODE_ACAD='\n",
    "# ww_x_UNITE_ACAD=249847&ww_x_PERIODE_ACAD=978181&ww_x_PERIODE_PEDAGO=249108&ww_x_HIVERETE=2936286'\n",
    "\n",
    "#Now I'm going to iterate over all possible the academic periods\n",
    "aca_period = pd.Series([0]*(len(find_period)-1)) # we have seen that the first one is null and we are skipping it\n",
    "period_name = pd.Series([0]*(len(find_period)-1)) # to print the names on the data frame\n",
    "find_student = soup.find_all('td')\n",
    "students_list =  pd.DataFrame(index=range(1,500),columns=period_name) # create a df with columns as the period\n",
    "\n",
    "i = 0\n",
    "for child in find_period:  # iterating on the academic period\n",
    "    if child['value'] != 'null': # the first entrance is null, exclude that\n",
    "        aca_period[i] = child['value']\n",
    "        period_name[i] = str(child.get_text())\n",
    "        req = ur.Request(names_url+str(child['value'])+str('&ww_x_PERIODE_PEDAGO=249108&ww_x_HIVERETE=2936286'), headers = headers)\n",
    "        page = ur.urlopen(req).read()\n",
    "        soup_p = BeautifulSoup(page,'lxml') \n",
    "        #print (names_url+str(child['value'])+str('&ww_x_PERIODE_PEDAGO=249108&ww_x_HIVERETE=2936286'))\n",
    "        \n",
    "        find_student = soup_p.find_all('td')\n",
    "        j = 1\n",
    "        print(i)\n",
    "        for student in find_student: #reading all students from an academic period\n",
    "            if student.string != None:\n",
    "                if '2' in student.string:\n",
    "                    students_list.loc[j,str(child.get_text())] = student.string\n",
    "                    print (student.string)\n",
    "                    print (str(child.get_text()))\n",
    "                    j = j + 1\n",
    "                    i = i + 1\n",
    "    \n",
    "                   "
   ]
  },
  {
   "cell_type": "code",
   "execution_count": 861,
   "metadata": {
    "collapsed": false
   },
   "outputs": [
    {
     "data": {
      "text/html": [
       "<div>\n",
       "<table border=\"1\" class=\"dataframe\">\n",
       "  <thead>\n",
       "    <tr style=\"text-align: right;\">\n",
       "      <th></th>\n",
       "      <th>2016-2017</th>\n",
       "      <th>2015-2016</th>\n",
       "      <th>2014-2015</th>\n",
       "      <th>2013-2014</th>\n",
       "      <th>2012-2013</th>\n",
       "      <th>2011-2012</th>\n",
       "      <th>2010-2011</th>\n",
       "      <th>2009-2010</th>\n",
       "      <th>2008-2009</th>\n",
       "      <th>2007-2008</th>\n",
       "    </tr>\n",
       "  </thead>\n",
       "  <tbody>\n",
       "    <tr>\n",
       "      <th>1</th>\n",
       "      <td>NaN</td>\n",
       "      <td>NaN</td>\n",
       "      <td>NaN</td>\n",
       "      <td>NaN</td>\n",
       "      <td>NaN</td>\n",
       "      <td>NaN</td>\n",
       "      <td>NaN</td>\n",
       "      <td>NaN</td>\n",
       "      <td>NaN</td>\n",
       "      <td>va</td>\n",
       "    </tr>\n",
       "    <tr>\n",
       "      <th>2</th>\n",
       "      <td>NaN</td>\n",
       "      <td>NaN</td>\n",
       "      <td>NaN</td>\n",
       "      <td>NaN</td>\n",
       "      <td>NaN</td>\n",
       "      <td>NaN</td>\n",
       "      <td>NaN</td>\n",
       "      <td>NaN</td>\n",
       "      <td>NaN</td>\n",
       "      <td>NaN</td>\n",
       "    </tr>\n",
       "    <tr>\n",
       "      <th>3</th>\n",
       "      <td>NaN</td>\n",
       "      <td>NaN</td>\n",
       "      <td>NaN</td>\n",
       "      <td>NaN</td>\n",
       "      <td>NaN</td>\n",
       "      <td>NaN</td>\n",
       "      <td>NaN</td>\n",
       "      <td>NaN</td>\n",
       "      <td>NaN</td>\n",
       "      <td>NaN</td>\n",
       "    </tr>\n",
       "    <tr>\n",
       "      <th>4</th>\n",
       "      <td>NaN</td>\n",
       "      <td>NaN</td>\n",
       "      <td>NaN</td>\n",
       "      <td>NaN</td>\n",
       "      <td>NaN</td>\n",
       "      <td>NaN</td>\n",
       "      <td>NaN</td>\n",
       "      <td>NaN</td>\n",
       "      <td>NaN</td>\n",
       "      <td>NaN</td>\n",
       "    </tr>\n",
       "    <tr>\n",
       "      <th>5</th>\n",
       "      <td>NaN</td>\n",
       "      <td>NaN</td>\n",
       "      <td>NaN</td>\n",
       "      <td>NaN</td>\n",
       "      <td>NaN</td>\n",
       "      <td>NaN</td>\n",
       "      <td>NaN</td>\n",
       "      <td>NaN</td>\n",
       "      <td>NaN</td>\n",
       "      <td>NaN</td>\n",
       "    </tr>\n",
       "  </tbody>\n",
       "</table>\n",
       "</div>"
      ],
      "text/plain": [
       "  2016-2017 2015-2016 2014-2015 2013-2014 2012-2013 2011-2012 2010-2011  \\\n",
       "1       NaN       NaN       NaN       NaN       NaN       NaN       NaN   \n",
       "2       NaN       NaN       NaN       NaN       NaN       NaN       NaN   \n",
       "3       NaN       NaN       NaN       NaN       NaN       NaN       NaN   \n",
       "4       NaN       NaN       NaN       NaN       NaN       NaN       NaN   \n",
       "5       NaN       NaN       NaN       NaN       NaN       NaN       NaN   \n",
       "\n",
       "  2009-2010 2008-2009 2007-2008  \n",
       "1       NaN       NaN        va  \n",
       "2       NaN       NaN       NaN  \n",
       "3       NaN       NaN       NaN  \n",
       "4       NaN       NaN       NaN  \n",
       "5       NaN       NaN       NaN  "
      ]
     },
     "execution_count": 861,
     "metadata": {},
     "output_type": "execute_result"
    }
   ],
   "source": [
    "df2 = pd.DataFrame(index=range(1,500),columns=period_name)\n",
    "#df2.name = 'Period'\n",
    "#df2.index.name = 'Student'\n",
    "df2.loc[1,'2007-2008'] = 'va'\n",
    "\n",
    "df2.head()"
   ]
  },
  {
   "cell_type": "code",
   "execution_count": 713,
   "metadata": {
    "collapsed": false
   },
   "outputs": [
    {
     "name": "stdout",
     "output_type": "stream",
     "text": [
      "0    355925344\n",
      "1    213638028\n",
      "2    213637922\n",
      "3    213637754\n",
      "4    123456101\n",
      "5    123455150\n",
      "6     39486325\n",
      "7       978195\n",
      "8       978187\n",
      "9       978181\n",
      "dtype: int64\n"
     ]
    }
   ],
   "source": [
    "serie = pd.Series([0]*(len(find_period)-1)) # we have seen that the first one is null and we are skipping it\n",
    "i = 0\n",
    "for child in find_period:\n",
    "    if child['value'] != 'null':\n",
    "        #print (child['value'])\n",
    "        serie[i] = child['value'] \n",
    "        i = 1 + i\n",
    "        \n",
    "print (serie)\n",
    "        \n",
    "#for item in range(1, len(find_period)):\n",
    " #   print (find_period['item'])\n",
    "#type (find_period)\n",
    "#find_period.attrs\n",
    "\n",
    "#for item in find_period.stripped_strings:\n",
    " #   print (item)\n",
    "\n",
    "    #find_period.option"
   ]
  },
  {
   "cell_type": "code",
   "execution_count": 182,
   "metadata": {
    "collapsed": false
   },
   "outputs": [
    {
     "name": "stdout",
     "output_type": "stream",
     "text": [
      "null\n",
      "942293\n",
      "246696\n",
      "943282\n",
      "637841336\n",
      "942623\n",
      "944263\n",
      "943936\n",
      "2054839157\n",
      "249847\n",
      "120623110\n",
      "946882\n",
      "944590\n",
      "945244\n",
      "945571\n",
      "944917\n",
      "942953\n",
      "945901\n",
      "1574548993\n",
      "946228\n",
      "null\n",
      "355925344\n",
      "213638028\n",
      "213637922\n",
      "213637754\n",
      "123456101\n",
      "123455150\n",
      "39486325\n",
      "978195\n",
      "978187\n",
      "978181\n",
      "null\n",
      "249108\n",
      "249114\n",
      "942155\n",
      "942163\n",
      "942120\n",
      "2226768\n",
      "942175\n",
      "2226785\n",
      "2230106\n",
      "942192\n",
      "2230128\n",
      "2230140\n",
      "2335667\n",
      "2335676\n",
      "2063602308\n",
      "249127\n",
      "3781783\n",
      "953159\n",
      "2754553\n",
      "953137\n",
      "2226616\n",
      "983606\n",
      "2226626\n",
      "2227132\n",
      "null\n",
      "2936286\n",
      "2936295\n"
     ]
    }
   ],
   "source": [
    "find_options = soup.find_all(\"option\")\n",
    "\n",
    "\n",
    "\n",
    "for v in find_options:\n",
    "    print(v['value'])"
   ]
  },
  {
   "cell_type": "code",
   "execution_count": 745,
   "metadata": {
    "collapsed": false
   },
   "outputs": [
    {
     "name": "stdout",
     "output_type": "stream",
     "text": [
      "2016-2017\n",
      "2015-2016\n",
      "2014-2015\n",
      "2013-2014\n",
      "2012-2013\n",
      "2011-2012\n",
      "2010-2011\n",
      "2009-2010\n",
      "2008-2009\n",
      "2007-2008\n"
     ]
    }
   ],
   "source": [
    "for child in find_period:  # iterating on the academic period\n",
    "    if child['value'] != 'null': # the first entrance is null, exclude that\n",
    "        print(child.get_text())\n"
   ]
  },
  {
   "cell_type": "markdown",
   "metadata": {},
   "source": [
    "for child in find_menu.children:\n",
    "    print(child)"
   ]
  },
  {
   "cell_type": "code",
   "execution_count": 144,
   "metadata": {
    "collapsed": false
   },
   "outputs": [
    {
     "name": "stdout",
     "output_type": "stream",
     "text": [
      "Semestre d'automne\n",
      "Semestre de printemps\n"
     ]
    }
   ],
   "source": [
    "for value in find_menu.stripped_strings:\n",
    "    print (value)"
   ]
  },
  {
   "cell_type": "code",
   "execution_count": 164,
   "metadata": {
    "collapsed": false
   },
   "outputs": [
    {
     "name": "stdout",
     "output_type": "stream",
     "text": [
      "<option value=\"355925344\">2016-2017</option>\n"
     ]
    }
   ],
   "source": [
    "find_option = soup('option')[21] # equivalent to soup.find_all('option')\n",
    "print(find_option)"
   ]
  },
  {
   "cell_type": "code",
   "execution_count": 98,
   "metadata": {
    "collapsed": false
   },
   "outputs": [
    {
     "name": "stdout",
     "output_type": "stream",
     "text": [
      "<html>\n",
      " <head>\n",
      "  <meta content=\"text/html; charset=utf-8\" http-equiv=\"Content-Type\"/>\n",
      "  <link href=\"gedpublicreports.css?ww_x_path=Gestac.Moniteur.Style\" rel=\"stylesheet\" type=\"text/css\"/>\n",
      " </head>\n",
      " <body alink=\"#666666\" bgcolor=\"#ffffff\" link=\"#666666\" marginheight=\"0\" marginwidth=\"5\" vlink=\"#666666\">\n",
      "  <fieldset style=\"text-align:right; width:40%; position:relative; margin-right: 10px;float:right; border: 0; padding: 0 0 8px 0;\">\n",
      "   <a href=\"!GEDREPORTS.html?ww_x_GPS=71297531&amp;ww_i_reportModel=133685247&amp;ww_i_reportModelXsl=133685270&amp;ww_x_UNITE_ACAD=249847&amp;ww_x_PERIODE_ACAD=978181&amp;ww_x_PERIODE_PEDAGO=249108&amp;ww_x_HIVERETE=2936286\" style=\"color:#990033;\">\n",
      "    Identification pour accéder aux e-mails\n",
      "    <br/>\n",
      "    Login to access email adresses\n",
      "   </a>\n",
      "  </fieldset>\n",
      "  <script>\n",
      "   function mailList(x) {\n",
      "   var vtop = (screen.height-200)/2;\n",
      "   var vleft=(screen.width-600)/2;\n",
      "   var w=open(\"\", \"emaillist\", \"Scrollbars=1,resizable=1,width=600,height=200,top=\"+vtop+\",lef\n"
     ]
    }
   ],
   "source": [
    "base_url = 'http://isa.epfl.ch/imoniteur_ISAP/!GEDPUBLICREPORTS.html?ww_x_GPS=71297531&ww_i_reportModel=133685247&ww_i_reportModelXsl=133685270&ww_x_UNITE_ACAD=249847&ww_x_PERIODE_ACAD=978181&ww_x_PERIODE_PEDAGO=249108&ww_x_HIVERETE=2936286' \n",
    "headers = {\"User-Agent\": \"Mozilla/5.0 (Windows NT 10.0; WOW64) AppleWebKit/537.36 (KHTML, like Gecko) Chrome/53.0.2785.143 Safari/537.36\" }\n",
    "\n",
    "req = ur.Request(base_url, headers = headers)\n",
    "page = ur.urlopen(req).read()\n",
    "soup = BeautifulSoup(page,'lxml') \n",
    "\n",
    "print (soup.prettify()[0:1000])"
   ]
  },
  {
   "cell_type": "code",
   "execution_count": 99,
   "metadata": {
    "collapsed": false
   },
   "outputs": [
    {
     "name": "stdout",
     "output_type": "stream",
     "text": [
      "<class 'NoneType'>\n",
      "None\n"
     ]
    }
   ],
   "source": []
  },
  {
   "cell_type": "code",
   "execution_count": null,
   "metadata": {
    "collapsed": true
   },
   "outputs": [],
   "source": []
  }
 ],
 "metadata": {
  "anaconda-cloud": {},
  "kernelspec": {
   "display_name": "Python [conda root]",
   "language": "python",
   "name": "conda-root-py"
  },
  "language_info": {
   "codemirror_mode": {
    "name": "ipython",
    "version": 3
   },
   "file_extension": ".py",
   "mimetype": "text/x-python",
   "name": "python",
   "nbconvert_exporter": "python",
   "pygments_lexer": "ipython3",
   "version": "3.5.2"
  }
 },
 "nbformat": 4,
 "nbformat_minor": 0
}
