{
 "cells": [
  {
   "cell_type": "markdown",
   "metadata": {},
   "source": [
    "# Gun Deaths in the US"
   ]
  },
  {
   "cell_type": "markdown",
   "metadata": {},
   "source": [
<<<<<<< HEAD
    "The data for this Homework can be found in [this](https://github.com/fivethirtyeight/guns-data) Github repo of [fivethirtyeight](http://fivethirtyeight.com/). Let's take a look at it!"
=======
    "The data we will use in this Homework can be found in [this](https://github.com/fivethirtyeight/guns-data) Github repository of [fivethirtyeight](http://fivethirtyeight.com/). Let's take a look at it!"
>>>>>>> 4aa1ef36c1076db6b7eaa64da6492fd50edced03
   ]
  },
  {
   "cell_type": "code",
   "execution_count": 11,
   "metadata": {
    "collapsed": false
   },
   "outputs": [
    {
     "data": {
      "text/html": [
       "<div>\n",
       "<table border=\"1\" class=\"dataframe\">\n",
       "  <thead>\n",
       "    <tr style=\"text-align: right;\">\n",
       "      <th></th>\n",
       "      <th>Unnamed: 0</th>\n",
       "      <th>year</th>\n",
       "      <th>month</th>\n",
       "      <th>intent</th>\n",
       "      <th>police</th>\n",
       "      <th>sex</th>\n",
       "      <th>age</th>\n",
       "      <th>race</th>\n",
       "      <th>hispanic</th>\n",
       "      <th>place</th>\n",
       "      <th>education</th>\n",
       "    </tr>\n",
       "  </thead>\n",
       "  <tbody>\n",
       "    <tr>\n",
       "      <th>0</th>\n",
       "      <td>1</td>\n",
       "      <td>2012</td>\n",
       "      <td>1</td>\n",
       "      <td>Suicide</td>\n",
       "      <td>0</td>\n",
       "      <td>M</td>\n",
       "      <td>34.0</td>\n",
       "      <td>Asian/Pacific Islander</td>\n",
       "      <td>100</td>\n",
       "      <td>Home</td>\n",
       "      <td>4.0</td>\n",
       "    </tr>\n",
       "    <tr>\n",
       "      <th>1</th>\n",
       "      <td>2</td>\n",
       "      <td>2012</td>\n",
       "      <td>1</td>\n",
       "      <td>Suicide</td>\n",
       "      <td>0</td>\n",
       "      <td>F</td>\n",
       "      <td>21.0</td>\n",
       "      <td>White</td>\n",
       "      <td>100</td>\n",
       "      <td>Street</td>\n",
       "      <td>3.0</td>\n",
       "    </tr>\n",
       "    <tr>\n",
       "      <th>2</th>\n",
       "      <td>3</td>\n",
       "      <td>2012</td>\n",
       "      <td>1</td>\n",
       "      <td>Suicide</td>\n",
       "      <td>0</td>\n",
       "      <td>M</td>\n",
       "      <td>60.0</td>\n",
       "      <td>White</td>\n",
       "      <td>100</td>\n",
       "      <td>Other specified</td>\n",
       "      <td>4.0</td>\n",
       "    </tr>\n",
       "    <tr>\n",
       "      <th>3</th>\n",
       "      <td>4</td>\n",
       "      <td>2012</td>\n",
       "      <td>2</td>\n",
       "      <td>Suicide</td>\n",
       "      <td>0</td>\n",
       "      <td>M</td>\n",
       "      <td>64.0</td>\n",
       "      <td>White</td>\n",
       "      <td>100</td>\n",
       "      <td>Home</td>\n",
       "      <td>4.0</td>\n",
       "    </tr>\n",
       "    <tr>\n",
       "      <th>4</th>\n",
       "      <td>5</td>\n",
       "      <td>2012</td>\n",
       "      <td>2</td>\n",
       "      <td>Suicide</td>\n",
       "      <td>0</td>\n",
       "      <td>M</td>\n",
       "      <td>31.0</td>\n",
       "      <td>White</td>\n",
       "      <td>100</td>\n",
       "      <td>Other specified</td>\n",
       "      <td>2.0</td>\n",
       "    </tr>\n",
       "  </tbody>\n",
       "</table>\n",
       "</div>"
      ],
      "text/plain": [
       "   Unnamed: 0  year  month   intent  police sex   age                    race  \\\n",
       "0           1  2012      1  Suicide       0   M  34.0  Asian/Pacific Islander   \n",
       "1           2  2012      1  Suicide       0   F  21.0                   White   \n",
       "2           3  2012      1  Suicide       0   M  60.0                   White   \n",
       "3           4  2012      2  Suicide       0   M  64.0                   White   \n",
       "4           5  2012      2  Suicide       0   M  31.0                   White   \n",
       "\n",
       "   hispanic            place  education  \n",
       "0       100             Home        4.0  \n",
       "1       100           Street        3.0  \n",
       "2       100  Other specified        4.0  \n",
       "3       100             Home        4.0  \n",
       "4       100  Other specified        2.0  "
      ]
     },
     "execution_count": 11,
     "metadata": {},
     "output_type": "execute_result"
    }
   ],
   "source": [
    "%matplotlib inline\n",
    "\n",
    "import numpy as np\n",
    "import pandas as pd\n",
    "import matplotlib.pyplot as plt\n",
    "import math\n",
    "\n",
    "df = pd.read_csv('full_data_1.csv')\n",
    "\n",
    "df.head()"
   ]
  },
  {
   "cell_type": "markdown",
   "metadata": {},
   "source": [
    "First let's see if there is missing data"
   ]
  },
  {
   "cell_type": "code",
   "execution_count": 12,
   "metadata": {
    "collapsed": false
   },
   "outputs": [
    {
     "data": {
      "text/plain": [
       "Unnamed: 0    False\n",
       "year          False\n",
       "month         False\n",
       "intent         True\n",
       "police        False\n",
       "sex           False\n",
       "age            True\n",
       "race          False\n",
       "hispanic      False\n",
       "place          True\n",
       "education      True\n",
       "dtype: bool"
      ]
     },
     "execution_count": 12,
     "metadata": {},
     "output_type": "execute_result"
    }
   ],
   "source": [
    "df.isnull().any() # Finds which columns has NaN values"
   ]
  },
  {
   "cell_type": "markdown",
   "metadata": {},
   "source": [
    "Total number of deaths and time span in years"
   ]
  },
  {
   "cell_type": "code",
   "execution_count": 13,
   "metadata": {
    "collapsed": false
   },
   "outputs": [
    {
     "data": {
      "text/plain": [
       "100798"
      ]
     },
     "execution_count": 13,
     "metadata": {},
     "output_type": "execute_result"
    }
   ],
   "source": [
    "total_number = len(df.index)\n",
    "total_number"
   ]
  },
  {
   "cell_type": "code",
   "execution_count": 14,
   "metadata": {
    "collapsed": false
   },
   "outputs": [
    {
     "name": "stdout",
     "output_type": "stream",
     "text": [
      "The average number of deaths per year = 33599.33\n",
      "3\n"
     ]
    }
   ],
   "source": [
    "time_span_y = df.loc[total_number-1,'year'] - df.loc[0,'year'] + 1\n",
    "time_span_y \n",
    "\n",
    "print( 'The average number of deaths per year = %0.2f' % (total_number/time_span_y))\n",
    "print(time_span_y)"
   ]
  },
  {
   "cell_type": "markdown",
   "metadata": {},
   "source": [
    "How many months? Are there months missing?"
   ]
  },
  {
   "cell_type": "code",
   "execution_count": 15,
   "metadata": {
    "collapsed": false
   },
   "outputs": [
    {
     "data": {
      "text/html": [
       "<div>\n",
       "<table border=\"1\" class=\"dataframe\">\n",
       "  <thead>\n",
       "    <tr style=\"text-align: right;\">\n",
       "      <th></th>\n",
       "      <th>year</th>\n",
       "      <th>month</th>\n",
       "    </tr>\n",
       "  </thead>\n",
       "  <tbody>\n",
       "    <tr>\n",
       "      <th>0</th>\n",
       "      <td>2012</td>\n",
       "      <td>1</td>\n",
       "    </tr>\n",
       "    <tr>\n",
       "      <th>1</th>\n",
       "      <td>2012</td>\n",
       "      <td>1</td>\n",
       "    </tr>\n",
       "  </tbody>\n",
       "</table>\n",
       "</div>"
      ],
      "text/plain": [
       "   year  month\n",
       "0  2012      1\n",
       "1  2012      1"
      ]
     },
     "execution_count": 15,
     "metadata": {},
     "output_type": "execute_result"
    }
   ],
   "source": [
    "dfym = df.loc[:,['year','month']]\n",
    "dfym.head(2)"
   ]
  },
  {
   "cell_type": "code",
   "execution_count": 16,
   "metadata": {
    "collapsed": false
   },
   "outputs": [
    {
     "data": {
      "text/plain": [
       "12"
      ]
     },
     "execution_count": 16,
     "metadata": {},
     "output_type": "execute_result"
    }
   ],
   "source": [
    "df2012 = df[df.year == 2012].sort_values(by='month') #selecting only data from 2012 and ordering by month\n",
    "df2013 = df[df.year == 2013].sort_values(by='month')\n",
    "df2014 = df[df.year == 2014].sort_values(by='month') # there must be a better way to do this\n",
    "\n",
    "df_year[year] =\n",
    "\n",
    "len(pd.value_counts(df2014.month))  # counting the frequecy of each month, checking the length of this file: must be 12"
   ]
  },
  {
   "cell_type": "markdown",
   "metadata": {},
   "source": [
    "What's the percentage of suicides?"
   ]
  },
  {
   "cell_type": "code",
   "execution_count": 17,
   "metadata": {
    "collapsed": false
   },
   "outputs": [
    {
     "data": {
      "text/plain": [
       "0.63"
      ]
     },
     "execution_count": 17,
     "metadata": {},
     "output_type": "execute_result"
    }
   ],
   "source": [
    "suicide_number = df['intent'].value_counts()['Suicide'] \n",
    "df['intent'].value_counts().sum() #this differs from the total number found above: 100798, smg is wrong with the data\n",
    "round(suicide_number/total_number,2)"
   ]
  },
  {
   "cell_type": "markdown",
   "metadata": {},
   "source": [
    "Selecting only the data with intent == suicide"
   ]
  },
  {
   "cell_type": "code",
   "execution_count": 18,
   "metadata": {
    "collapsed": false
   },
   "outputs": [],
   "source": [
    "dfs = df[df.intent == 'Suicide'] "
   ]
  },
  {
   "cell_type": "markdown",
   "metadata": {},
   "source": [
    "Now, I'll count the two different classes of sex within this selected part of the data set"
   ]
  },
  {
   "cell_type": "code",
   "execution_count": 19,
   "metadata": {
    "collapsed": false
   },
   "outputs": [
    {
     "data": {
      "text/plain": [
       "M    54486\n",
       "F     8689\n",
       "Name: sex, dtype: int64"
      ]
     },
     "execution_count": 19,
     "metadata": {},
     "output_type": "execute_result"
    }
   ],
   "source": [
    "dfs['sex'].value_counts()"
   ]
  },
  {
   "cell_type": "code",
   "execution_count": 20,
   "metadata": {
    "collapsed": false
   },
   "outputs": [
    {
     "data": {
      "text/plain": [
       "54486"
      ]
     },
     "execution_count": 20,
     "metadata": {},
     "output_type": "execute_result"
    }
   ],
   "source": [
    "df[df.intent == 'Suicide']['sex'].value_counts()['M'] #total number of males that commited suicide\n",
    "total_ms = df[df.sex == 'M']['intent'].value_counts()['Suicide'] # of course, altering the order here doesn't matter\n",
    "total_ms"
   ]
  },
  {
   "cell_type": "code",
   "execution_count": 21,
   "metadata": {
    "collapsed": false
   },
   "outputs": [
    {
     "data": {
      "text/plain": [
       "63175"
      ]
     },
     "execution_count": 21,
     "metadata": {},
     "output_type": "execute_result"
    }
   ],
   "source": [
    "dfs['sex'].value_counts().sum()  # these both give the total number of suicides\n",
    "df['intent'].value_counts()['Suicide'] "
   ]
  },
  {
   "cell_type": "code",
   "execution_count": 22,
   "metadata": {
    "collapsed": false
   },
   "outputs": [
    {
     "name": "stdout",
     "output_type": "stream",
     "text": [
      "The percentage of male suicide is 0.862\n"
     ]
    }
   ],
   "source": [
    "male_suicide = df[df.sex == 'M']['intent'].value_counts()['Suicide']/df['intent'].value_counts()['Suicide']\n",
    "\n",
    "print('The percentage of male suicide is %0.3f' % (male_suicide))"
   ]
  },
  {
   "cell_type": "code",
   "execution_count": 23,
   "metadata": {
    "collapsed": false
   },
   "outputs": [
    {
     "name": "stdout",
     "output_type": "stream",
     "text": [
      "The percentage of males which commited suicide and is older than 45 is 0.60\n"
     ]
    }
   ],
   "source": [
    "dfm = df[(df.sex == 'M')]\n",
    "ms_older = dfm[dfm.age > 45]['intent'].value_counts()['Suicide']\n",
    "\n",
    "print ('The percentage of males which commited suicide and is older than 45 is %0.2f' %(ms_older/total_ms))"
   ]
  },
  {
   "cell_type": "code",
   "execution_count": 24,
   "metadata": {
    "collapsed": false
   },
   "outputs": [
    {
     "data": {
      "text/plain": [
       "17365"
      ]
     },
     "execution_count": 24,
     "metadata": {},
     "output_type": "execute_result"
    }
   ],
   "source": [
    "dfm[dfm.age > 60]['intent'].value_counts()['Suicide']"
   ]
  },
  {
   "cell_type": "markdown",
   "metadata": {},
   "source": [
    "Now, I wanna plot the number of deaths per month. I'll take the ordered data per year above"
   ]
  },
  {
   "cell_type": "code",
   "execution_count": 25,
   "metadata": {
    "collapsed": false
   },
   "outputs": [],
   "source": [
    "dft12 = pd.value_counts(df2012.month).sort_index(axis=0)\n",
    "dft13 = pd.value_counts(df2013.month).sort_index(axis=0)\n",
    "dft14 = pd.value_counts(df2014.month).sort_index(axis=0)"
   ]
  },
  {
   "cell_type": "code",
   "execution_count": 26,
   "metadata": {
    "collapsed": false
   },
   "outputs": [
    {
     "data": {
      "image/png": "iVBORw0KGgoAAAANSUhEUgAAAYEAAAEACAYAAABVtcpZAAAABHNCSVQICAgIfAhkiAAAAAlwSFlz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\nQmCC\n",
      "text/plain": [
       "<matplotlib.figure.Figure at 0x2962b2f86d8>"
      ]
     },
     "metadata": {},
     "output_type": "display_data"
    }
   ],
   "source": [
    "plt.plot(dft12,'ro')\n",
    "plt.plot(dft13,'bs')\n",
    "plt.plot(dft14,'g^')\n",
    "plt.show()"
   ]
  },
  {
   "cell_type": "markdown",
   "metadata": {
    "collapsed": false
   },
   "source": [
    "We clearly see that there is a good correlation between the different years. We see that in all years, the number of deaths in February is significantly lower, is it just because February has a smaller number of days? Before trying to answer that, let's see how this goes for different intents."
   ]
  },
  {
   "cell_type": "code",
   "execution_count": 27,
   "metadata": {
    "collapsed": false
   },
   "outputs": [
    {
     "data": {
      "text/plain": [
       "Suicide         63175\n",
       "Homicide        35176\n",
       "Accidental       1639\n",
       "Undetermined      807\n",
       "Name: intent, dtype: int64"
      ]
     },
     "execution_count": 27,
     "metadata": {},
     "output_type": "execute_result"
    }
   ],
   "source": [
    "df['intent'].value_counts()"
   ]
  },
  {
   "cell_type": "markdown",
   "metadata": {},
   "source": [
    "Let's take a look at suicide, as it is the most frequent intent"
   ]
  },
  {
   "cell_type": "code",
   "execution_count": 28,
   "metadata": {
    "collapsed": false
   },
   "outputs": [
    {
     "data": {
      "image/png": "iVBORw0KGgoAAAANSUhEUgAAAYEAAAEACAYAAABVtcpZAAAABHNCSVQICAgIfAhkiAAAAAlwSFlz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\nYII=\n",
      "text/plain": [
       "<matplotlib.figure.Figure at 0x2962b3262b0>"
      ]
     },
     "metadata": {},
     "output_type": "display_data"
    }
   ],
   "source": [
    "dfs12 = df2012[df2012.intent == 'Suicide']['month'].value_counts().sort_index(axis=0)\n",
    "dfs13 = df2013[df2013.intent == 'Suicide']['month'].value_counts().sort_index(axis=0)\n",
    "dfs14 = df2014[df2014.intent == 'Suicide']['month'].value_counts().sort_index(axis=0)\n",
    "\n",
    "plt.plot(dfs12,'ro')\n",
    "plt.plot(dfs13,'bs')\n",
    "plt.plot(dfs14,'g^')\n",
    "plt.show()"
   ]
  },
  {
   "cell_type": "markdown",
   "metadata": {},
   "source": [
    "Ok, so we clearly see there are big fluctuations throughout the year, but for some reason, people do kill themselves less in February. One should check for the correlations. The total number of deaths is, of course, mostly driven by the suicides. "
   ]
  },
  {
   "cell_type": "code",
   "execution_count": 29,
   "metadata": {
    "collapsed": false,
    "scrolled": true
   },
   "outputs": [
    {
     "data": {
      "image/png": "iVBORw0KGgoAAAANSUhEUgAAAXQAAAEACAYAAACj0I2EAAAABHNCSVQICAgIfAhkiAAAAAlwSFlz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\nM7NEONDNzBLx/wGbbDBdGicdkwAAAABJRU5ErkJggg==\n",
      "text/plain": [
       "<matplotlib.figure.Figure at 0x2962ef1a048>"
      ]
     },
     "metadata": {},
     "output_type": "display_data"
    }
   ],
   "source": [
    "dfa12 = df2012[df2012.intent == 'Accidental']['month'].value_counts().sort_index(axis=0)\n",
    "dfa13 = df2013[df2013.intent == 'Accidental']['month'].value_counts().sort_index(axis=0)\n",
    "dfa14 = df2014[df2014.intent == 'Accidental']['month'].value_counts().sort_index(axis=0)\n",
    "\n",
    "plt.plot(dfa12,'ro')\n",
    "plt.plot(dfa13,'bs')\n",
    "plt.plot(dfa14,'g^')\n",
    "plt.show()"
   ]
  },
  {
   "cell_type": "markdown",
   "metadata": {},
   "source": [
    "Now, let's normalize the data by number of days in the months (Notice: 2012,2016 has a leap day). First, I construct a series with the weighting I'll apply"
   ]
  },
  {
   "cell_type": "code",
   "execution_count": 31,
   "metadata": {
    "collapsed": false
   },
   "outputs": [
    {
     "data": {
      "text/plain": [
       "0     0.000000\n",
       "1     1.000000\n",
       "2     1.068966\n",
       "3     1.000000\n",
       "4     1.033333\n",
       "5     1.000000\n",
       "6     1.033333\n",
       "7     1.000000\n",
       "8     1.000000\n",
       "9     1.033333\n",
       "10    1.000000\n",
       "11    1.033333\n",
       "12    1.000000\n",
       "dtype: float64"
      ]
     },
     "execution_count": 31,
     "metadata": {},
     "output_type": "execute_result"
    }
   ],
   "source": [
    "norm_12 = pd.Series([0,1/31,1/29,1/31,1/30,1/31,1/30,1/31,1/31,1/30,1/31,1/30,1/31])*31\n",
    "norm_1314 = pd.Series([0,1/31,1/28,1/31,1/30,1/31,1/30,1/31,1/31,1/30,1/31,1/30,1/31])*31\n",
    "norm_12"
   ]
  },
  {
   "cell_type": "markdown",
   "metadata": {},
   "source": [
    "Now, I renormalize the data, such that the maximum value is 1, and replot. I should write the below as a 3D matrix"
   ]
  },
  {
   "cell_type": "code",
   "execution_count": 32,
   "metadata": {
    "collapsed": false
   },
   "outputs": [
    {
     "data": {
      "text/plain": [
       "0          NaN\n",
       "1     0.883540\n",
       "2     0.857054\n",
       "3     0.883540\n",
       "4     0.933316\n",
       "5     1.000000\n",
       "6     0.922084\n",
       "7     0.925983\n",
       "8     0.929607\n",
       "9     0.918340\n",
       "10    0.877847\n",
       "11    0.898551\n",
       "12    0.840580\n",
       "dtype: float64"
      ]
     },
     "execution_count": 32,
     "metadata": {},
     "output_type": "execute_result"
    }
   ],
   "source": [
    "dft12_renorm = (dft12).multiply(norm_12)\n",
    "dft13_renorm = (dft13).multiply(norm_1314)\n",
    "dft14_renorm = (dft14).multiply(norm_1314)\n",
    "\n",
    "dfs12_renorm = (dfs12).multiply(norm_12)\n",
    "dfs13_renorm = (dfs13).multiply(norm_1314)\n",
    "dfs14_renorm = (dfs14).multiply(norm_1314)\n",
    "\n",
    "dfa12_renorm = (dfa12).multiply(norm_12)\n",
    "dfa13_renorm = (dfa13).multiply(norm_1314)\n",
    "dfa14_renorm = (dfa14).multiply(norm_1314)\n",
    "\n",
    "dft12_r = dft12_renorm/dft12_renorm.max()\n",
    "dft13_r = dft13_renorm/dft13_renorm.max()\n",
    "dft14_r = dft14_renorm/dft14_renorm.max()\n",
    "\n",
    "dfs12_r = dfs12_renorm/dfs12_renorm.max()\n",
    "dfs13_r = dfs13_renorm/dfs13_renorm.max()\n",
    "dfs14_r = dfs14_renorm/dfs14_renorm.max()\n",
    "\n",
    "dfa12_r = dfa12_renorm/dfa12_renorm.max()\n",
    "dfa13_r = dfa13_renorm/dfa13_renorm.max()\n",
    "dfa14_r = dfa14_renorm/dfa14_renorm.max()\n",
    "\n",
    "dfs12_r"
   ]
  },
  {
   "cell_type": "code",
   "execution_count": 37,
   "metadata": {
    "collapsed": false
   },
   "outputs": [
    {
     "data": {
      "image/png": "iVBORw0KGgoAAAANSUhEUgAAAX0AAAEACAYAAABfxaZOAAAABHNCSVQICAgIfAhkiAAAAAlwSFlz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\n+f9a3wYy5kwMKgAAAABJRU5ErkJggg==\n",
      "text/plain": [
       "<matplotlib.figure.Figure at 0x2962f006be0>"
      ]
     },
     "metadata": {},
     "output_type": "display_data"
    }
   ],
   "source": [
    "plt.plot(dfs12_r,'ro')\n",
    "plt.plot(dfs13_r,'bs')\n",
    "plt.plot(dfs14_r,'g^')\n",
    "\n",
    "plt.show()"
   ]
  },
  {
   "cell_type": "code",
   "execution_count": 42,
   "metadata": {
    "collapsed": false
   },
   "outputs": [
    {
     "name": "stdout",
     "output_type": "stream",
     "text": [
      "0.00206\n",
      "0.00125\n",
      "0.00189\n"
     ]
    }
   ],
   "source": [
    "meant12 = pd.Series([dft12_r.mean()]*13)\n",
    "meant13 = pd.Series([dft13_r.mean()]*13)\n",
    "meant14 = pd.Series([dft14_r.mean()]*13)\n",
    "\n",
    "                    \n",
    "var12 = ((dft12_r-meant12)*(dft12_r-meant12)).mean() #seems correct, checked with Mathematica\n",
    "var13 = ((dft13_r-meant13)*(dft13_r-meant13)).mean() #seems correct, checked with Mathematica\n",
    "var14 = ((dft14_r-meant14)*(dft14_r-meant14)).mean() #seems correct, checked with Mathematica\n",
    "\n",
    "print ('%0.5f' % var12)\n",
    "print ('%0.5f' % var13)\n",
    "print ('%0.5f' % var14)"
   ]
  },
  {
   "cell_type": "code",
   "execution_count": 61,
   "metadata": {
    "collapsed": false
   },
   "outputs": [
    {
     "name": "stdout",
     "output_type": "stream",
     "text": [
      "0.002245056852332983\n",
      "0.0013622242894834604\n",
      "0.002245056852332983\n"
     ]
    }
   ],
   "source": [
    "print(dft12_r.var(0))  # check why it is different form above\n",
    "print(dft13_r.var(0))\n",
    "print(dft12_r.var(0))\n",
    "#print((dft14_r[12]-dft14_r.mean())*(dft14_r[12]-dft14_r.mean()))"
   ]
  },
  {
   "cell_type": "markdown",
   "metadata": {},
   "source": [
    "Checking how February stands"
   ]
  },
  {
   "cell_type": "code",
   "execution_count": 60,
   "metadata": {
    "collapsed": false
   },
   "outputs": [
    {
     "name": "stdout",
     "output_type": "stream",
     "text": [
      "0.0113252632591\n",
      "0.00538296400653\n",
      "0.00622052042802\n"
     ]
    }
   ],
   "source": [
    "#print((dft12_r[2]-dft12_r.mean())*(dft12_r[2]-dft12_r.mean())) \n",
    "print(((dft12_r-meant12)*(dft12_r-meant12))[2])\n",
    "print(((dft13_r-meant13)*(dft13_r-meant13))[2])\n",
    "print(((dft14_r-meant14)*(dft14_r-meant14))[2])"
   ]
  },
  {
   "cell_type": "code",
   "execution_count": null,
   "metadata": {
    "collapsed": true
   },
   "outputs": [],
   "source": []
  }
 ],
 "metadata": {
  "anaconda-cloud": {},
  "kernelspec": {
<<<<<<< HEAD
   "display_name": "Python [conda env:env27]",
   "language": "python",
   "name": "conda-env-env27-py"
=======
   "display_name": "Python [Root]",
   "language": "python",
   "name": "Python [Root]"
>>>>>>> 4aa1ef36c1076db6b7eaa64da6492fd50edced03
  },
  "language_info": {
   "codemirror_mode": {
    "name": "ipython",
<<<<<<< HEAD
    "version": 2
=======
    "version": 3
>>>>>>> 4aa1ef36c1076db6b7eaa64da6492fd50edced03
   },
   "file_extension": ".py",
   "mimetype": "text/x-python",
   "name": "python",
   "nbconvert_exporter": "python",
<<<<<<< HEAD
   "pygments_lexer": "ipython2",
   "version": "2.7.12"
=======
   "pygments_lexer": "ipython3",
   "version": "3.5.2"
>>>>>>> 4aa1ef36c1076db6b7eaa64da6492fd50edced03
  }
 },
 "nbformat": 4,
 "nbformat_minor": 0
}
